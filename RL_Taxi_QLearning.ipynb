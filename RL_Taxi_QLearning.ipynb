{
 "cells": [
  {
   "cell_type": "markdown",
   "id": "06b8d223",
   "metadata": {},
   "source": [
    "# Q-Learning on the OpenAI Gym Taxi-v3 Environment\n",
    "This notebook demonstrates how to solve the Taxi-v3 environment using the Q-learning algorithm."
   ]
  },
  {
   "cell_type": "code",
   "execution_count": 1,
   "id": "ffb74b90",
   "metadata": {},
   "outputs": [],
   "source": [
    "import gym\n",
    "import numpy as np\n",
    "import matplotlib.pyplot as plt\n",
    "import seaborn as sns\n",
    "sns.set_theme()\n"
   ]
  },
  {
   "cell_type": "markdown",
   "id": "2e152c02",
   "metadata": {},
   "source": [
    "## Environment Setup\n",
    "We use the Taxi-v3 environment from OpenAI Gym, where a taxi must pick up and drop off a passenger at designated locations on a grid."
   ]
  },
  {
   "cell_type": "code",
   "execution_count": 2,
   "id": "c599beca",
   "metadata": {},
   "outputs": [
    {
     "name": "stdout",
     "output_type": "stream",
     "text": [
      "Environment initialized. Number of states: 500\n",
      "Number of actions: 6\n"
     ]
    }
   ],
   "source": [
    "env = gym.make('Taxi-v3')\n",
    "state = env.reset()\n",
    "print(f\"Environment initialized. Number of states: {env.observation_space.n}\")\n",
    "print(f\"Number of actions: {env.action_space.n}\")"
   ]
  },
  {
   "cell_type": "markdown",
   "id": "90f2f91e",
   "metadata": {},
   "source": [
    "## Taxi-v3 Problem Setup\n",
    "\n",
    "In the Taxi-v3 environment, an agent (“taxi”) must navigate a 5×5 grid world, pick up a passenger at one of four designated pickup locations, and drop them off at one of four drop-off locations. The MDP is defined as follows:\n",
    "\n",
    "- **State space $S$**  \n",
    "  Each state $s$ encodes:  \n",
    "  1. Taxi row (0–4)  \n",
    "  2. Taxi column (0–4)  \n",
    "  3. Passenger location (4 pickup spots + “in taxi” = 5 possibilities)  \n",
    "  4. Destination index (4 possible drop-off spots)  \n",
    "  This yields  \n",
    "  $$\n",
    "    5 \\times 5 \\times 5 \\times 4 \\;=\\; 500\n",
    "  $$  \n",
    "  distinct states.\n",
    "\n",
    "- **Action space $A$**  \n",
    "  There are 6 discrete actions:  \n",
    "  1. Move south  \n",
    "  2. Move north  \n",
    "  3. Move east  \n",
    "  4. Move west  \n",
    "  5. Pick up passenger  \n",
    "  6. Drop off passenger  \n",
    "\n",
    "- **Transition dynamics $P(s' \\mid s, a)$**  \n",
    "  - Moving off the grid leaves the taxi in the same cell.  \n",
    "  - “Pick up” succeeds only if the taxi is at the passenger’s location; otherwise it incurs an illegal-pickup penalty.  \n",
    "  - “Drop off” succeeds only when the taxi is at the correct destination *and* the passenger is aboard; otherwise it incurs an illegal-dropoff penalty.\n",
    "\n",
    "- **Reward function $R(s,a)$**  \n",
    "  - $-1$ per time step (to encourage efficiency)  \n",
    "  - $+20$ for a successful drop-off  \n",
    "  - $-10$ for an illegal pick-up or drop-off attempt\n",
    "\n",
    "- **Episode termination**  \n",
    "  The episode ends when the passenger is successfully delivered (terminal state). A maximum step limit (default 200 steps) can also truncate the episode.\n",
    "\n",
    "- **Objective**  \n",
    "  Learn a policy $\\pi(s)$ that maximizes the expected cumulative discounted reward  \n",
    "  $$\n",
    "    \\mathbb{E}\\Bigl[\\sum_{t=0}^\\infty \\gamma^t \\, r_t\\Bigr],\n",
    "  $$  \n",
    "  where $\\gamma \\in [0,1]$ is the discount factor and $r_t$ is the reward received at time $t$.\n"
   ]
  },
  {
   "cell_type": "markdown",
   "id": "86c13d41",
   "metadata": {},
   "source": [
    "## Markov Decision Process Formulation\n",
    "The environment is modeled as an MDP $(S, A, P, R, \\gamma)$ where:\n",
    "- $S$: finite set of states (taxi location, passenger location, destination)\n",
    "- $A$: finite set of actions (move south, north, east, west, pick up, drop off)\n",
    "- $P(s'\\mid s,a)$: transition probabilities determined by the environment's dynamics\n",
    "- $R(s,a)$: reward function (e.g. -1 per step, +20 for successful dropoff, -10 for illegal pick/drop)\n",
    "- $\\gamma$: discount factor for future rewards"
   ]
  },
  {
   "cell_type": "markdown",
   "id": "7368fc24",
   "metadata": {},
   "source": [
    "## Q-Learning Algorithm\n",
    "Q-learning is an off-policy TD control algorithm. At each step:\n",
    "$$\n",
    "Q(s,a) \\leftarrow Q(s,a) + \\alpha \\bigl[r + \\gamma \\max_{a'} Q(s',a') - Q(s,a)\\bigr]\n",
    "$$\n",
    "where:\n",
    "- $\\alpha$ is the learning rate\n",
    "- $\\gamma$ is the discount factor\n",
    "- $r$ is the immediate reward\n",
    "- $s'$ is the next state"
   ]
  },
  {
   "cell_type": "markdown",
   "id": "cf45b2e7",
   "metadata": {},
   "source": [
    "## Implementing Q-Learning\n",
    "We create a function `q_learning(env, num_episodes, alpha, gamma, epsilon, epsilon_decay)`\n",
    "that returns the learned Q-table and a record of rewards per episode."
   ]
  },
  {
   "cell_type": "code",
   "execution_count": 3,
   "id": "c7898dc7",
   "metadata": {},
   "outputs": [],
   "source": [
    "def q_learning(env, num_episodes, alpha, gamma, epsilon, epsilon_decay):\n",
    "    n_states  = env.observation_space.n\n",
    "    n_actions = env.action_space.n\n",
    "    Q         = np.zeros((n_states, n_actions))\n",
    "    rewards   = []\n",
    "\n",
    "    for ep in range(num_episodes):\n",
    "        state, _ = env.reset()      \n",
    "        total_reward = 0\n",
    "        done = False\n",
    "\n",
    "        while not done:\n",
    "            # ε-greedy action\n",
    "            if np.random.rand() < epsilon:\n",
    "                action = env.action_space.sample()\n",
    "            else:\n",
    "                action = np.argmax(Q[state])\n",
    "\n",
    "            next_state, reward, terminated, truncated, _ = env.step(action)\n",
    "            done = terminated or truncated\n",
    "\n",
    "            # Q-update\n",
    "            best_next = np.max(Q[next_state])\n",
    "            Q[state, action] += alpha * (reward + gamma * best_next - Q[state, action])\n",
    "\n",
    "            state = next_state\n",
    "            total_reward += reward\n",
    "\n",
    "        rewards.append(total_reward)\n",
    "        epsilon *= epsilon_decay\n",
    "\n",
    "    return Q, rewards\n"
   ]
  },
  {
   "cell_type": "markdown",
   "id": "cc9fad9a",
   "metadata": {},
   "source": [
    "## Training the Agent\n",
    "We train for 5,000 episodes with learning rate $\\alpha=0.1$, discount $\\gamma=0.99$,\n",
    "initial exploration rate $\\epsilon=1.0$ decayed by $\\epsilon_{decay}=0.995$."
   ]
  },
  {
   "cell_type": "code",
   "execution_count": 4,
   "id": "60700879",
   "metadata": {},
   "outputs": [
    {
     "name": "stderr",
     "output_type": "stream",
     "text": [
      "/opt/anaconda3/lib/python3.12/site-packages/gym/utils/passive_env_checker.py:233: DeprecationWarning: `np.bool8` is a deprecated alias for `np.bool_`.  (Deprecated NumPy 1.24)\n",
      "  if not isinstance(terminated, (bool, np.bool8)):\n"
     ]
    },
    {
     "name": "stdout",
     "output_type": "stream",
     "text": [
      "Average reward over last 100 episodes: 8.07\n"
     ]
    }
   ],
   "source": [
    "alpha = 0.1\n",
    "gamma = 0.99\n",
    "epsilon = 1.0\n",
    "epsilon_decay = 0.995\n",
    "num_episodes = 5000\n",
    "Q, rewards = q_learning(env, num_episodes, alpha, gamma, epsilon, epsilon_decay)\n",
    "print(f\"Average reward over last 100 episodes: {np.mean(rewards[-100:]):.2f}\")"
   ]
  },
  {
   "cell_type": "markdown",
   "id": "ece88eb9",
   "metadata": {},
   "source": [
    "### Learning Curve\n",
    "Plot total reward per episode to observe learning progress."
   ]
  },
  {
   "cell_type": "code",
   "execution_count": 5,
   "id": "3c482df9",
   "metadata": {},
   "outputs": [
    {
     "data": {
      "image/png": "[encoded data removed]",
      "text/plain": [
       "<Figure size 1000x500 with 1 Axes>"
      ]
     },
     "metadata": {},
     "output_type": "display_data"
    }
   ],
   "source": [
    "plt.figure(figsize=(10,5))\n",
    "plt.plot(rewards, label='Reward per episode')\n",
    "plt.xlabel('Episode')\n",
    "plt.ylabel('Total Reward')\n",
    "plt.title('Q-Learning: Reward vs Episode')\n",
    "plt.legend()\n",
    "plt.show()"
   ]
  },
  {
   "cell_type": "markdown",
   "id": "6c683489",
   "metadata": {},
   "source": [
    "## Policy Evaluation\n",
    "Run the learned policy for 100 episodes and compute average reward."
   ]
  },
  {
   "cell_type": "code",
   "execution_count": 6,
   "id": "c5586c8a",
   "metadata": {},
   "outputs": [
    {
     "name": "stdout",
     "output_type": "stream",
     "text": [
      "Average reward over 100 evaluation episodes: 8.02\n"
     ]
    }
   ],
   "source": [
    "def evaluate_policy(env, Q, episodes=100):\n",
    "    total_reward = 0\n",
    "    \n",
    "    for _ in range(episodes):\n",
    "        state, _ = env.reset()\n",
    "        done = False\n",
    "        \n",
    "        while not done:\n",
    "            action = np.argmax(Q[state])\n",
    "            \n",
    "            next_state, reward, terminated, truncated, _ = env.step(action)\n",
    "            done = terminated or truncated\n",
    "            \n",
    "            state = next_state\n",
    "            total_reward += reward\n",
    "            \n",
    "    return total_reward / episodes\n",
    "\n",
    "avg_reward = evaluate_policy(env, Q)\n",
    "print(f\"Average reward over 100 evaluation episodes: {avg_reward:.2f}\")"
   ]
  },
  {
   "cell_type": "markdown",
   "id": "41d73ab8",
   "metadata": {},
   "source": [
    "## Discussion\n",
    "- The Q-learning agent learns to pick up and drop off the passenger efficiently,\n",
    "  maximizing the total reward.\n",
    "- The reward curve shows improvement as exploration decays and Q-values converge.\n",
    "- Hyperparameters such as $\\alpha$, $\\gamma$, and $\\epsilon$ decay rate\n",
    "  impact the speed and stability of learning."
   ]
  }
 ],
 "metadata": {
  "kernelspec": {
   "display_name": "base",
   "language": "python",
   "name": "python3"
  },
  "language_info": {
   "codemirror_mode": {
    "name": "ipython",
    "version": 3
   },
   "file_extension": ".py",
   "mimetype": "text/x-python",
   "name": "python",
   "nbconvert_exporter": "python",
   "pygments_lexer": "ipython3",
   "version": "3.12.7"
  }
 },
 "nbformat": 4,
 "nbformat_minor": 5
}
