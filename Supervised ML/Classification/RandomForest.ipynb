{
 "cells": [
  {
   "cell_type": "markdown",
   "id": "c1422957",
   "metadata": {},
   "source": [
    "# Random Forest Classification on the Digits Dataset\n",
    "This notebook demonstrates how to use scikit-learn's `RandomForestClassifier` for multi-class classification on the Digits dataset."
   ]
  },
  {
   "cell_type": "code",
   "execution_count": 2,
   "id": "9d7019b1",
   "metadata": {},
   "outputs": [],
   "source": [
    "import numpy as np\n",
    "import pandas as pd\n",
    "import matplotlib.pyplot as plt\n",
    "import seaborn as sns\n",
    "from sklearn.datasets import load_digits\n",
    "from sklearn.model_selection import train_test_split, validation_curve\n",
    "from sklearn.ensemble import RandomForestClassifier\n",
    "from sklearn.metrics import accuracy_score, confusion_matrix, classification_report\n",
    "from sklearn.decomposition import PCA\n",
    "sns.set_theme()\n"
   ]
  },
  {
   "cell_type": "markdown",
   "id": "43b65668",
   "metadata": {},
   "source": [
    "## Data Loading & Exploration\n",
    "Load the Digits dataset (8×8 images of handwritten digits) and inspect its properties."
   ]
  },
  {
   "cell_type": "code",
   "execution_count": null,
   "id": "3d2b3079",
   "metadata": {},
   "outputs": [
    {
     "name": "stdout",
     "output_type": "stream",
     "text": [
      "Feature matrix shape: (1797, 64)\n",
      "Number of classes: 10\n",
      "Label distribution: [178 182 177 183 181 182 181 179 174 180]\n"
     ]
    }
   ],
   "source": [
    "digits = load_digits()\n",
    "X = digits.data      # shape (1797, 64)\n",
    "y = digits.target    # labels 0–9\n",
    "print(f\"Feature matrix shape: {X.shape}\")\n",
    "print(f\"Number of classes: {len(np.unique(y))}\")\n",
    "print(\"Label distribution:\", np.bincount(y))"
   ]
  },
  {
   "cell_type": "markdown",
   "id": "ae8d09ea",
   "metadata": {},
   "source": [
    "## Visualizing Sample Images\n",
    "Display a few examples from each class."
   ]
  },
  {
   "cell_type": "code",
   "execution_count": 4,
   "id": "88d8d92b",
   "metadata": {},
   "outputs": [
    {
     "data": {
      "image/png": "[encoded data removed]",
      "text/plain": [
       "<Figure size 800x800 with 10 Axes>"
      ]
     },
     "metadata": {},
     "output_type": "display_data"
    }
   ],
   "source": [
    "plt.figure(figsize=(8,8))\n",
    "for digit in range(10):\n",
    "    idx = np.where(y == digit)[0][0]\n",
    "    ax = plt.subplot(5, 5, digit+1)\n",
    "    plt.imshow(X[idx].reshape(8,8), cmap='gray')\n",
    "    plt.title(f\"Label: {digit}\")\n",
    "    plt.axis('off')\n",
    "plt.suptitle('Sample Digits')\n",
    "plt.tight_layout()\n",
    "plt.show()\n"
   ]
  },
  {
   "cell_type": "markdown",
   "id": "612bc518",
   "metadata": {},
   "source": [
    "## Train/Test Split\n",
    "Split the data into 80% training and 20% testing."
   ]
  },
  {
   "cell_type": "code",
   "execution_count": 5,
   "id": "345aaed8",
   "metadata": {},
   "outputs": [
    {
     "name": "stdout",
     "output_type": "stream",
     "text": [
      "Training samples: 1437, Test samples: 360\n"
     ]
    }
   ],
   "source": [
    "X_train, X_test, y_train, y_test = train_test_split(\n",
    "    X, y, test_size=0.2, random_state=42, stratify=y\n",
    ")\n",
    "print(f\"Training samples: {X_train.shape[0]}, Test samples: {X_test.shape[0]}\")"
   ]
  }
 ],
 "metadata": {
  "kernelspec": {
   "display_name": "base",
   "language": "python",
   "name": "python3"
  },
  "language_info": {
   "codemirror_mode": {
    "name": "ipython",
    "version": 3
   },
   "file_extension": ".py",
   "mimetype": "text/x-python",
   "name": "python",
   "nbconvert_exporter": "python",
   "pygments_lexer": "ipython3",
   "version": "3.12.7"
  }
 },
 "nbformat": 4,
 "nbformat_minor": 5
}
